{
 "cells": [
  {
   "cell_type": "code",
   "execution_count": 1,
   "metadata": {},
   "outputs": [
    {
     "name": "stderr",
     "output_type": "stream",
     "text": [
      "c:\\users\\sagar\\appdata\\local\\programs\\python\\python37\\lib\\site-packages\\numpy\\_distributor_init.py:32: UserWarning: loaded more than 1 DLL from .libs:\n",
      "c:\\users\\sagar\\appdata\\local\\programs\\python\\python37\\lib\\site-packages\\numpy\\.libs\\libopenblas.IPBC74C7KURV7CB2PKT5Z5FNR3SIBV4J.gfortran-win_amd64.dll\n",
      "c:\\users\\sagar\\appdata\\local\\programs\\python\\python37\\lib\\site-packages\\numpy\\.libs\\libopenblas.NOIJJG62EMASZI6NYURL6JBKM4EVBGM7.gfortran-win_amd64.dll\n",
      "c:\\users\\sagar\\appdata\\local\\programs\\python\\python37\\lib\\site-packages\\numpy\\.libs\\libopenblas.qvlo2t66wepi7jz63ps3hmohfey472bc.gfortran-win_amd64.dll\n",
      "c:\\users\\sagar\\appdata\\local\\programs\\python\\python37\\lib\\site-packages\\numpy\\.libs\\libopenblas.TXA6YQSD3GCQQC22GEQ54J2UDCXDXHWN.gfortran-win_amd64.dll\n",
      "  stacklevel=1)\n"
     ]
    }
   ],
   "source": [
    "from data_main import get_data\n",
    "import matplotlib.pyplot as plt"
   ]
  },
  {
   "cell_type": "code",
   "execution_count": 2,
   "metadata": {},
   "outputs": [
    {
     "data": {
      "text/html": [
       "<div>\n",
       "<style scoped>\n",
       "    .dataframe tbody tr th:only-of-type {\n",
       "        vertical-align: middle;\n",
       "    }\n",
       "\n",
       "    .dataframe tbody tr th {\n",
       "        vertical-align: top;\n",
       "    }\n",
       "\n",
       "    .dataframe thead th {\n",
       "        text-align: right;\n",
       "    }\n",
       "</style>\n",
       "<table border=\"1\" class=\"dataframe\">\n",
       "  <thead>\n",
       "    <tr style=\"text-align: right;\">\n",
       "      <th></th>\n",
       "      <th>Date</th>\n",
       "      <th>High</th>\n",
       "      <th>Low</th>\n",
       "      <th>Open</th>\n",
       "      <th>Close</th>\n",
       "      <th>Volume</th>\n",
       "      <th>Adj Close</th>\n",
       "    </tr>\n",
       "  </thead>\n",
       "  <tbody>\n",
       "    <tr>\n",
       "      <th>0</th>\n",
       "      <td>2020-12-31</td>\n",
       "      <td>126.029999</td>\n",
       "      <td>123.989998</td>\n",
       "      <td>124.220001</td>\n",
       "      <td>125.879997</td>\n",
       "      <td>3574400.0</td>\n",
       "      <td>122.847458</td>\n",
       "    </tr>\n",
       "    <tr>\n",
       "      <th>1</th>\n",
       "      <td>2021-01-04</td>\n",
       "      <td>125.919998</td>\n",
       "      <td>123.040001</td>\n",
       "      <td>125.849998</td>\n",
       "      <td>123.940002</td>\n",
       "      <td>5179200.0</td>\n",
       "      <td>120.954201</td>\n",
       "    </tr>\n",
       "    <tr>\n",
       "      <th>2</th>\n",
       "      <td>2021-01-05</td>\n",
       "      <td>126.680000</td>\n",
       "      <td>124.610001</td>\n",
       "      <td>125.010002</td>\n",
       "      <td>126.139999</td>\n",
       "      <td>6114600.0</td>\n",
       "      <td>123.101204</td>\n",
       "    </tr>\n",
       "    <tr>\n",
       "      <th>3</th>\n",
       "      <td>2021-01-06</td>\n",
       "      <td>131.880005</td>\n",
       "      <td>126.720001</td>\n",
       "      <td>126.900002</td>\n",
       "      <td>129.289993</td>\n",
       "      <td>7956700.0</td>\n",
       "      <td>126.175316</td>\n",
       "    </tr>\n",
       "    <tr>\n",
       "      <th>4</th>\n",
       "      <td>2021-01-07</td>\n",
       "      <td>130.460007</td>\n",
       "      <td>128.259995</td>\n",
       "      <td>130.039993</td>\n",
       "      <td>128.990005</td>\n",
       "      <td>4507400.0</td>\n",
       "      <td>125.882545</td>\n",
       "    </tr>\n",
       "  </tbody>\n",
       "</table>\n",
       "</div>"
      ],
      "text/plain": [
       "        Date        High         Low        Open       Close     Volume  \\\n",
       "0 2020-12-31  126.029999  123.989998  124.220001  125.879997  3574400.0   \n",
       "1 2021-01-04  125.919998  123.040001  125.849998  123.940002  5179200.0   \n",
       "2 2021-01-05  126.680000  124.610001  125.010002  126.139999  6114600.0   \n",
       "3 2021-01-06  131.880005  126.720001  126.900002  129.289993  7956700.0   \n",
       "4 2021-01-07  130.460007  128.259995  130.039993  128.990005  4507400.0   \n",
       "\n",
       "    Adj Close  \n",
       "0  122.847458  \n",
       "1  120.954201  \n",
       "2  123.101204  \n",
       "3  126.175316  \n",
       "4  125.882545  "
      ]
     },
     "execution_count": 2,
     "metadata": {},
     "output_type": "execute_result"
    }
   ],
   "source": [
    "data = get_data()\n",
    "data.head()"
   ]
  },
  {
   "cell_type": "code",
   "execution_count": 3,
   "metadata": {},
   "outputs": [
    {
     "name": "stdout",
     "output_type": "stream",
     "text": [
      "[125.31999969482422, 126.4566650390625, 128.13999938964844, 128.9366658528646, 128.70000203450522, 128.7733357747396, 128.2366689046224, 128.36666870117188, 128.09333292643228, 128.7933349609375, 129.16333516438803, 130.25, 126.77999877929688, 122.94666544596355, 119.8933334350586, 121.18000030517578, 121.68000030517578, 120.55333455403645, 119.91000111897786, 119.69666798909505, 119.7000020345052, 119.86000061035156, 120.6433334350586, 122.13999938964844, 122.5, 122.64999898274739, 121.75, 121.31666819254558, 120.5933354695638, 120.28000132242839, 120.25666809082031, 119.89666748046875, 120.19333394368489, 120.18666585286458, 121.5933329264323, 122.12999979654948, 121.53666687011719, 120.71333312988281, 120.0, 121.1433334350586, 120.93333435058594, 121.76666768391927, 122.58333333333333, 123.93999989827473, 125.62000020345052, 126.39666748046875, 127.54000091552734, 127.77666727701823, 128.1433359781901, 128.61666870117188, 129.11000061035156, 129.32999674479166, 129.83666483561197, 129.97000122070312, 130.5433349609375, 131.38333638509116, 133.3566691080729, 135.10333760579428, 135.65333557128906, 134.61333211263022, 133.73666381835938, 134.1399943033854, 134.45999654134116, 135.02666219075522, 134.75666300455728, 135.25999450683594, 135.14666239420572, 133.8333282470703, 132.79999796549478, 132.12999979654947, 132.93333435058594, 133.09666442871094, 134.9566650390625, 138.27666727701822, 140.99666849772134, 142.4199981689453, 141.75999959309897, 142.00333150227866, 142.1933339436849, 143.08333333333334, 143.04000345865884, 143.6233367919922, 144.12666829427084, 145.24000040690103, 146.4633331298828, 146.36666870117188, 146.68333435058594, 145.28333536783853, 143.89666748046875, 143.2300008138021, 143.38333129882812, 144.65333048502603, 144.56666564941406, 144.07000223795572, 143.66000366210938, 143.9366709391276, 144.44667053222656, 144.41666666666666, 143.9633331298828, 143.66333516438803, 143.64667256673178, 143.9166717529297]\n"
     ]
    }
   ],
   "source": [
    "window_size = 3\n",
    "windows = data['Close'].rolling(window_size)\n",
    "moving_averages = windows.mean()\n",
    "\n",
    "moving_averages_list = moving_averages.tolist()\n",
    "without_nans = moving_averages_list[window_size - 1:]\n",
    "\n",
    "print(without_nans)"
   ]
  },
  {
   "cell_type": "code",
   "execution_count": null,
   "metadata": {},
   "outputs": [],
   "source": []
  }
 ],
 "metadata": {
  "kernelspec": {
   "display_name": "Python 3",
   "language": "python",
   "name": "python3"
  },
  "language_info": {
   "codemirror_mode": {
    "name": "ipython",
    "version": 3
   },
   "file_extension": ".py",
   "mimetype": "text/x-python",
   "name": "python",
   "nbconvert_exporter": "python",
   "pygments_lexer": "ipython3",
   "version": "3.7.3"
  }
 },
 "nbformat": 4,
 "nbformat_minor": 4
}
