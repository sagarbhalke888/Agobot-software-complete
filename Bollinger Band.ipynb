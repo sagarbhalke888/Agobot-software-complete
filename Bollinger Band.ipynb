{
 "cells": [
  {
   "cell_type": "code",
   "execution_count": 24,
   "metadata": {},
   "outputs": [],
   "source": [
    "from data_main import get_data\n",
    "import matplotlib.pyplot as plt"
   ]
  },
  {
   "cell_type": "code",
   "execution_count": 25,
   "metadata": {},
   "outputs": [
    {
     "data": {
      "text/html": [
       "<div>\n",
       "<style scoped>\n",
       "    .dataframe tbody tr th:only-of-type {\n",
       "        vertical-align: middle;\n",
       "    }\n",
       "\n",
       "    .dataframe tbody tr th {\n",
       "        vertical-align: top;\n",
       "    }\n",
       "\n",
       "    .dataframe thead th {\n",
       "        text-align: right;\n",
       "    }\n",
       "</style>\n",
       "<table border=\"1\" class=\"dataframe\">\n",
       "  <thead>\n",
       "    <tr style=\"text-align: right;\">\n",
       "      <th></th>\n",
       "      <th>Date</th>\n",
       "      <th>High</th>\n",
       "      <th>Low</th>\n",
       "      <th>Open</th>\n",
       "      <th>Close</th>\n",
       "      <th>Volume</th>\n",
       "      <th>Adj Close</th>\n",
       "    </tr>\n",
       "  </thead>\n",
       "  <tbody>\n",
       "    <tr>\n",
       "      <th>0</th>\n",
       "      <td>2020-12-31</td>\n",
       "      <td>126.029999</td>\n",
       "      <td>123.989998</td>\n",
       "      <td>124.220001</td>\n",
       "      <td>125.879997</td>\n",
       "      <td>3574400.0</td>\n",
       "      <td>122.847458</td>\n",
       "    </tr>\n",
       "    <tr>\n",
       "      <th>1</th>\n",
       "      <td>2021-01-04</td>\n",
       "      <td>125.919998</td>\n",
       "      <td>123.040001</td>\n",
       "      <td>125.849998</td>\n",
       "      <td>123.940002</td>\n",
       "      <td>5179200.0</td>\n",
       "      <td>120.954201</td>\n",
       "    </tr>\n",
       "    <tr>\n",
       "      <th>2</th>\n",
       "      <td>2021-01-05</td>\n",
       "      <td>126.680000</td>\n",
       "      <td>124.610001</td>\n",
       "      <td>125.010002</td>\n",
       "      <td>126.139999</td>\n",
       "      <td>6114600.0</td>\n",
       "      <td>123.101204</td>\n",
       "    </tr>\n",
       "    <tr>\n",
       "      <th>3</th>\n",
       "      <td>2021-01-06</td>\n",
       "      <td>131.880005</td>\n",
       "      <td>126.720001</td>\n",
       "      <td>126.900002</td>\n",
       "      <td>129.289993</td>\n",
       "      <td>7956700.0</td>\n",
       "      <td>126.175316</td>\n",
       "    </tr>\n",
       "    <tr>\n",
       "      <th>4</th>\n",
       "      <td>2021-01-07</td>\n",
       "      <td>130.460007</td>\n",
       "      <td>128.259995</td>\n",
       "      <td>130.039993</td>\n",
       "      <td>128.990005</td>\n",
       "      <td>4507400.0</td>\n",
       "      <td>125.882545</td>\n",
       "    </tr>\n",
       "  </tbody>\n",
       "</table>\n",
       "</div>"
      ],
      "text/plain": [
       "        Date        High         Low        Open       Close     Volume  \\\n",
       "0 2020-12-31  126.029999  123.989998  124.220001  125.879997  3574400.0   \n",
       "1 2021-01-04  125.919998  123.040001  125.849998  123.940002  5179200.0   \n",
       "2 2021-01-05  126.680000  124.610001  125.010002  126.139999  6114600.0   \n",
       "3 2021-01-06  131.880005  126.720001  126.900002  129.289993  7956700.0   \n",
       "4 2021-01-07  130.460007  128.259995  130.039993  128.990005  4507400.0   \n",
       "\n",
       "    Adj Close  \n",
       "0  122.847458  \n",
       "1  120.954201  \n",
       "2  123.101204  \n",
       "3  126.175316  \n",
       "4  125.882545  "
      ]
     },
     "execution_count": 25,
     "metadata": {},
     "output_type": "execute_result"
    }
   ],
   "source": [
    "data = get_data()\n",
    "data.head()"
   ]
  },
  {
   "cell_type": "code",
   "execution_count": 26,
   "metadata": {},
   "outputs": [],
   "source": [
    "period = 20\n",
    "multiplier = 2"
   ]
  },
  {
   "cell_type": "code",
   "execution_count": 27,
   "metadata": {},
   "outputs": [],
   "source": [
    "data['MiddleBand'] = data['Close'].rolling(period).mean()\n",
    "data['UpperBand'] = data['Close'].rolling(period).mean() + data['Close'].rolling(period).std() * multiplier\n",
    "data['LowerBand'] = data['Close'].rolling(period).mean() - data['Close'].rolling(period).std() * multiplier"
   ]
  },
  {
   "cell_type": "code",
   "execution_count": 28,
   "metadata": {},
   "outputs": [
    {
     "data": {
      "text/plain": [
       "<Figure size 1440x432 with 0 Axes>"
      ]
     },
     "metadata": {},
     "output_type": "display_data"
    },
    {
     "data": {
      "image/png": "[encoded data removed]",
      "text/plain": [
       "<Figure size 432x288 with 1 Axes>"
      ]
     },
     "metadata": {
      "needs_background": "light"
     },
     "output_type": "display_data"
    }
   ],
   "source": [
    "plt.figure(figsize=(20, 6))\n",
    "ax = data[['MiddleBand', 'UpperBand', 'LowerBand','Close']].plot(color=['orange', 'blue', 'blue','red'])\n",
    "ax.fill_between(data.index, data['UpperBand'], data['LowerBand'], facecolor='blue', alpha=0.1)\n",
    "plt.show()"
   ]
  },
  {
   "cell_type": "code",
   "execution_count": null,
   "metadata": {},
   "outputs": [],
   "source": []
  },
  {
   "cell_type": "code",
   "execution_count": null,
   "metadata": {},
   "outputs": [],
   "source": []
  }
 ],
 "metadata": {
  "kernelspec": {
   "display_name": "Python 3",
   "language": "python",
   "name": "python3"
  },
  "language_info": {
   "codemirror_mode": {
    "name": "ipython",
    "version": 3
   },
   "file_extension": ".py",
   "mimetype": "text/x-python",
   "name": "python",
   "nbconvert_exporter": "python",
   "pygments_lexer": "ipython3",
   "version": "3.7.3"
  }
 },
 "nbformat": 4,
 "nbformat_minor": 4
}
